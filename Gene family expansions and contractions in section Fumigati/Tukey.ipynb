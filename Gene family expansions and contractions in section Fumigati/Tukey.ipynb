{
 "cells": [
  {
   "cell_type": "markdown",
   "metadata": {},
   "source": [
    "# This notebook will tell you how many OGs of interest have specific patterns of family members (ie High > Low or Medium > High)"
   ]
  },
  {
   "cell_type": "code",
   "execution_count": 15,
   "metadata": {},
   "outputs": [],
   "source": [
    "import csv\n",
    "import pandas as pd\n",
    "from statsmodels.stats.multicomp import MultiComparison\n",
    "import seaborn as sns\n",
    "import statsmodels.tools.print_version"
   ]
  },
  {
   "cell_type": "markdown",
   "metadata": {},
   "source": [
    " ## Open the file that is a single column of all the OGs of interest and save them as a list "
   ]
  },
  {
   "cell_type": "code",
   "execution_count": 2,
   "metadata": {},
   "outputs": [],
   "source": [
    "with open(\"10K_adj05_OGs.txt\", \"r\") as f:\n",
    "    OGs = []\n",
    "    for item in f:\n",
    "        #needed to remove the carriage returns\n",
    "        OGs.append(item[:-1])"
   ]
  },
  {
   "cell_type": "markdown",
   "metadata": {},
   "source": [
    " ## Load the OG data in as a dictionary with OGs as the keys and the number of family members in each strain (as an integer) as the values"
   ]
  },
  {
   "cell_type": "code",
   "execution_count": 3,
   "metadata": {},
   "outputs": [],
   "source": [
    "# open the file and make an initial dictionary that has orthogroups as keys and all the gene numbers as values\n",
    "#NOTE: this CSV file can NOT have a header\n",
    "with open('../../only_changes.csv') as mainfilehandle:\n",
    "    reader = csv.reader(mainfilehandle, delimiter=',')\n",
    "    l = list(reader)\n",
    "    d = {row[0]:row[1:] for row in l}\n",
    "\n",
    "# make an empty dictionary that will eventually contain orthogroups and gene numbers as integers (and not strings)\n",
    "dInt = {}\n",
    "\n",
    "#for every key in the initial dictionary...\n",
    "for k in d:\n",
    "    \n",
    "    #make a new key in the \"integer\" dictionary that is the key you're currently looping on\n",
    "    dInt[k] = []\n",
    "    \n",
    "    #for every value with that key\n",
    "    for v in d[k]:\n",
    "        \n",
    "        #convert the number to an integer\n",
    "        new = int(v)\n",
    "        \n",
    "        #and append it into the \"integer\" dictionary\n",
    "        dInt[k].append(new)"
   ]
  },
  {
   "cell_type": "markdown",
   "metadata": {},
   "source": [
    "## Make a function called `tukey` that will count how many orthogroups meet a given criteria and print those orthogroups if desired"
   ]
  },
  {
   "cell_type": "code",
   "execution_count": 4,
   "metadata": {},
   "outputs": [],
   "source": [
    "#'differences' is a list of booleans for the groups you want in the format of \"[True, True, True]\"\n",
    "    #order should be 'high is different than low', 'high is different than medium', 'low is different than medium'\n",
    "#'matches' is a boolean that says whether or not you want to print all the orthogroups that match your criteria\n",
    "    #default for matches is set to True\n",
    "def tukey(differences, matches = True):\n",
    "    \n",
    "    #make a counting variable that will contain how many orthogroups met your criteria\n",
    "    total = 0\n",
    "    \n",
    "    #make a list that contains the pathogenicity info\n",
    "    pathogenicity = ['high', 'high', 'high', 'high', 'high', 'medium', 'medium', 'medium', 'medium', 'medium', 'low', \\\n",
    "                 'low', 'low', 'low', 'low', 'low', 'low', 'low']\n",
    "    \n",
    "    #make a list that is the strain names\n",
    "    strain = ['A_neoellipticus_NRRL5109', 'A_fumigatus_12-750544', 'A_fumigatus_A1163', 'A_fumigatus_Af293', \\\n",
    "              'A_fumigatus_F16311', 'A_lentulus_IFM54703', 'A_novofumigatus_IBT16806', 'A_udagawae_IFM46973', \\\n",
    "              'A_viridinutans_FRR_0576', 'A_thermomutatus_HMRAF39', 'A_cejpii_FS110', 'A_clavatus_NRRL1', \\\n",
    "              'A_cristatus_GZAAS20.1005', 'A_fischeri_NRRL181', 'A_glaucus_CBS516.65', 'A_turcosus_HMRAF1038', \\\n",
    "              'A_turcosus_HMRAF23', 'A_wentii_DTO134E9']\n",
    "    \n",
    "    #for every orthogroup in the dictionary that has the adjusted p-values that are less than 0.05...\n",
    "    for orthogroup in OGs:\n",
    "        #make a list of the number of genes in each species in the same order as the previous two lists \n",
    "        values = [dInt[orthogroup][1], dInt[orthogroup][5], dInt[orthogroup][6], dInt[orthogroup][7], dInt[orthogroup][8], \\\n",
    "          dInt[orthogroup][10], dInt[orthogroup][11], dInt[orthogroup][12], dInt[orthogroup][15], dInt[orthogroup][16], \\\n",
    "          dInt[orthogroup][0], dInt[orthogroup][2], dInt[orthogroup][3], dInt[orthogroup][4], dInt[orthogroup][9], \\\n",
    "          dInt[orthogroup][13], dInt[orthogroup][14], dInt[orthogroup][17]]\n",
    "        \n",
    "        #make a dataframe that is each list as a column\n",
    "        dfOrthogroup = pd.DataFrame(list(zip(strain, values, pathogenicity)), columns = ['Strain', 'Gene_Count',\\\n",
    "                                                                                 'Pathogenicity_Level'])\n",
    "        \n",
    "        #run the THSDT on the dataframe\n",
    "        mc = MultiComparison(dfOrthogroup['Gene_Count'], dfOrthogroup['Pathogenicity_Level']).tukeyhsd()\n",
    "        \n",
    "        #if the user has set \"matches\" to True,\n",
    "        if matches:\n",
    "            \n",
    "            #and the result of the THSDT matches the user-provided list of booleans,\n",
    "            if list(mc.reject) == differences:\n",
    "                #increase the counter by 1\n",
    "                total += 1\n",
    "                #and print the orthogroup number you are currently on\n",
    "                print(str(mc.reject) + orthogroup)\n",
    "        \n",
    "        #if the user has not set \"matches\" to True,\n",
    "        else:\n",
    "            #and the result of the THSDT matches the user-provided list of booleans,\n",
    "            if list(mc.reject) == differences:\n",
    "                #increase the counter by 1\n",
    "                total += 1\n",
    "    #print the total number of orthogroups that matched the user-provided criteria\n",
    "    print(total)"
   ]
  },
  {
   "cell_type": "markdown",
   "metadata": {},
   "source": [
    " ## How many orthogroups have different numbers of genes in high, middle, and lowly pathogenic species?"
   ]
  },
  {
   "cell_type": "code",
   "execution_count": 5,
   "metadata": {},
   "outputs": [
    {
     "name": "stderr",
     "output_type": "stream",
     "text": [
      "/Users/MattMead/anaconda3/lib/python3.7/site-packages/statsmodels/sandbox/stats/multicomp.py:1309: RuntimeWarning: divide by zero encountered in true_divide\n",
      "  st_range = np.abs(meandiffs) / std_pairs #studentized range statistic\n",
      "/Users/MattMead/anaconda3/lib/python3.7/site-packages/statsmodels/sandbox/stats/multicomp.py:1309: RuntimeWarning: invalid value encountered in true_divide\n",
      "  st_range = np.abs(meandiffs) / std_pairs #studentized range statistic\n",
      "/Users/MattMead/anaconda3/lib/python3.7/site-packages/statsmodels/sandbox/stats/multicomp.py:1317: RuntimeWarning: invalid value encountered in greater\n",
      "  reject = st_range > q_crit\n"
     ]
    },
    {
     "name": "stdout",
     "output_type": "stream",
     "text": [
      "0\n"
     ]
    }
   ],
   "source": [
    "tukey([True, True, True], True)"
   ]
  },
  {
   "cell_type": "markdown",
   "metadata": {},
   "source": [
    "## How many orthogroups have a different number of genes in highly pathogenic species, but the same number of genes in low and medium pathogenic species?"
   ]
  },
  {
   "cell_type": "code",
   "execution_count": 6,
   "metadata": {},
   "outputs": [
    {
     "name": "stdout",
     "output_type": "stream",
     "text": [
      "[ True  True False]6997\n",
      "[ True  True False]9444\n",
      "[ True  True False]9445\n",
      "[ True  True False]9446\n",
      "[ True  True False]9447\n",
      "[ True  True False]9448\n",
      "[ True  True False]9449\n",
      "[ True  True False]9450\n",
      "[ True  True False]9451\n",
      "[ True  True False]9453\n",
      "[ True  True False]9455\n",
      "[ True  True False]9456\n",
      "[ True  True False]9457\n",
      "[ True  True False]9458\n",
      "[ True  True False]9459\n",
      "[ True  True False]9460\n",
      "[ True  True False]9462\n",
      "[ True  True False]9463\n",
      "[ True  True False]9464\n",
      "[ True  True False]9467\n",
      "[ True  True False]9468\n",
      "[ True  True False]9469\n",
      "[ True  True False]9470\n",
      "[ True  True False]9471\n",
      "[ True  True False]9472\n",
      "[ True  True False]9473\n",
      "[ True  True False]9475\n",
      "[ True  True False]9476\n",
      "[ True  True False]9478\n",
      "[ True  True False]9479\n",
      "[ True  True False]9480\n",
      "[ True  True False]9481\n",
      "[ True  True False]9482\n",
      "[ True  True False]9483\n",
      "[ True  True False]9484\n",
      "[ True  True False]9485\n",
      "[ True  True False]9486\n",
      "[ True  True False]9489\n",
      "[ True  True False]9491\n",
      "[ True  True False]9492\n",
      "[ True  True False]9493\n",
      "[ True  True False]9495\n",
      "[ True  True False]9496\n",
      "[ True  True False]9498\n",
      "[ True  True False]9499\n",
      "[ True  True False]9500\n",
      "[ True  True False]9501\n",
      "[ True  True False]9503\n",
      "[ True  True False]9504\n",
      "[ True  True False]9505\n",
      "[ True  True False]9506\n",
      "[ True  True False]9507\n",
      "[ True  True False]9509\n",
      "[ True  True False]9510\n",
      "[ True  True False]9511\n",
      "[ True  True False]9512\n",
      "[ True  True False]9513\n",
      "[ True  True False]9514\n",
      "[ True  True False]9517\n",
      "[ True  True False]9518\n",
      "[ True  True False]9519\n",
      "[ True  True False]9521\n",
      "[ True  True False]9523\n",
      "[ True  True False]9525\n",
      "[ True  True False]9526\n",
      "[ True  True False]9527\n",
      "[ True  True False]9528\n",
      "[ True  True False]9529\n",
      "[ True  True False]9530\n",
      "[ True  True False]9531\n",
      "[ True  True False]9532\n",
      "[ True  True False]9028\n",
      "[ True  True False]9050\n",
      "73\n"
     ]
    }
   ],
   "source": [
    "tukey([True, True, False], True)"
   ]
  },
  {
   "cell_type": "markdown",
   "metadata": {},
   "source": [
    "### Of these, how many have more genes in A. fumigatus"
   ]
  },
  {
   "cell_type": "code",
   "execution_count": 7,
   "metadata": {},
   "outputs": [
    {
     "name": "stdout",
     "output_type": "stream",
     "text": [
      "9444\n",
      "9445\n",
      "9446\n",
      "9447\n",
      "9448\n",
      "9449\n",
      "9450\n",
      "9451\n",
      "9453\n",
      "9455\n",
      "9456\n",
      "9457\n",
      "9458\n",
      "9459\n",
      "9460\n",
      "9462\n",
      "9463\n",
      "9464\n",
      "9467\n",
      "9468\n",
      "9469\n",
      "9470\n",
      "9471\n",
      "9472\n",
      "9473\n",
      "9475\n",
      "9476\n",
      "9478\n",
      "9479\n",
      "9480\n",
      "9481\n",
      "9482\n",
      "9483\n",
      "9484\n",
      "9485\n",
      "9486\n",
      "9489\n",
      "9491\n",
      "9492\n",
      "9493\n",
      "9495\n",
      "9496\n",
      "9498\n",
      "9499\n",
      "9500\n",
      "9501\n",
      "9503\n",
      "9504\n",
      "9505\n",
      "9506\n",
      "9507\n",
      "9509\n",
      "9510\n",
      "9511\n",
      "9512\n",
      "9513\n",
      "9514\n",
      "9517\n",
      "9518\n",
      "9519\n",
      "9521\n",
      "9523\n",
      "9525\n",
      "9526\n",
      "9527\n",
      "9528\n",
      "9529\n",
      "9530\n",
      "9531\n",
      "9532\n",
      "9028\n",
      "9050\n",
      "72\n"
     ]
    }
   ],
   "source": [
    "#make a counting variable that will contain how many orthogroups met your criteria\n",
    "total = 0\n",
    "    \n",
    "#make a list that contains the pathogenicity info\n",
    "pathogenicity = ['high', 'high', 'high', 'high', 'high', 'medium', 'medium', 'medium', 'medium', 'medium', 'low', \\\n",
    "                 'low', 'low', 'low', 'low', 'low', 'low', 'low']\n",
    "    \n",
    "#make a list that is the strain names\n",
    "strain = ['A_neoellipticus_NRRL5109', 'A_fumigatus_12-750544', 'A_fumigatus_A1163', 'A_fumigatus_Af293', \\\n",
    "          'A_fumigatus_F16311', 'A_lentulus_IFM54703', 'A_novofumigatus_IBT16806', 'A_udagawae_IFM46973', \\\n",
    "          'A_viridinutans_FRR_0576', 'A_thermomutatus_HMRAF39', 'A_cejpii_FS110', 'A_clavatus_NRRL1', \\\n",
    "          'A_cristatus_GZAAS20.1005', 'A_fischeri_NRRL181', 'A_glaucus_CBS516.65', 'A_turcosus_HMRAF1038', \\\n",
    "          'A_turcosus_HMRAF23', 'A_wentii_DTO134E9']\n",
    "    \n",
    "#for every orthogroup in the dictionary that has the adjusted p-values that are less than 0.05...\n",
    "for orthogroup in OGs:\n",
    "    #make a list of the number of genes in each species in the same order as the previous two lists \n",
    "    values = [dInt[orthogroup][1], dInt[orthogroup][5], dInt[orthogroup][6], dInt[orthogroup][7], dInt[orthogroup][8], \\\n",
    "        dInt[orthogroup][10], dInt[orthogroup][11], dInt[orthogroup][12], dInt[orthogroup][15], dInt[orthogroup][16], \\\n",
    "        dInt[orthogroup][0], dInt[orthogroup][2], dInt[orthogroup][3], dInt[orthogroup][4], dInt[orthogroup][9], \\\n",
    "        dInt[orthogroup][13], dInt[orthogroup][14], dInt[orthogroup][17]]\n",
    "        \n",
    "    #make a dataframe that is each list as a column\n",
    "    dfOrthogroup = pd.DataFrame(list(zip(strain, values, pathogenicity)), columns = ['Strain', 'Gene_Count',\\\n",
    "                                                                                 'Pathogenicity_Level'])\n",
    "        \n",
    "    #run the THSDT on the dataframe\n",
    "    mc = MultiComparison(dfOrthogroup['Gene_Count'], dfOrthogroup['Pathogenicity_Level']).tukeyhsd()\n",
    "        \n",
    "    #if the result of the THSDT matches the user-provided list of booleans,\n",
    "    if list(mc.reject) == [True, True, False] and mc.meandiffs[0] < 0 and mc.meandiffs[1] < 0:\n",
    "        #increase the counter by 1\n",
    "        total += 1\n",
    "        print(orthogroup)\n",
    "        \n",
    "#print the total number of orthogroups that matched the user-provided criteria\n",
    "print(total)"
   ]
  },
  {
   "cell_type": "markdown",
   "metadata": {},
   "source": [
    " #### All but one, and the one that doesn't is 6997"
   ]
  },
  {
   "cell_type": "markdown",
   "metadata": {},
   "source": [
    "## How many orthogroups have the same number of genes in \"pathogenic\" species (high and medium) but different number of genes in non-pathogenic species (low)"
   ]
  },
  {
   "cell_type": "code",
   "execution_count": 8,
   "metadata": {},
   "outputs": [
    {
     "name": "stdout",
     "output_type": "stream",
     "text": [
      "[ True False  True]8249\n",
      "1\n"
     ]
    }
   ],
   "source": [
    "tukey([True, False, True], True)"
   ]
  },
  {
   "cell_type": "markdown",
   "metadata": {},
   "source": [
    "#### 8249 has FEWER genes in pathogens (0) and more genes in non-pathogens (1)"
   ]
  },
  {
   "cell_type": "markdown",
   "metadata": {},
   "source": [
    "## How many orthogroups have the same number of genes in highly and lowly pathogenic species but a different number of genes in medium-pathogenic species\n",
    "### Don't know how to think about this group."
   ]
  },
  {
   "cell_type": "code",
   "execution_count": 9,
   "metadata": {},
   "outputs": [
    {
     "name": "stdout",
     "output_type": "stream",
     "text": [
      "[False  True  True]9562\n",
      "[False  True  True]9570\n",
      "[False  True  True]9572\n",
      "[False  True  True]9575\n",
      "[False  True  True]9581\n",
      "[False  True  True]9585\n",
      "[False  True  True]9586\n",
      "[False  True  True]9588\n",
      "[False  True  True]9091\n",
      "9\n"
     ]
    }
   ],
   "source": [
    "tukey([False, True, True], True)"
   ]
  },
  {
   "cell_type": "markdown",
   "metadata": {},
   "source": [
    "## How many orthogroups have different numbers of genes in high and low species, but the same number of genes in high and medium and low and medium species?"
   ]
  },
  {
   "cell_type": "code",
   "execution_count": 10,
   "metadata": {},
   "outputs": [
    {
     "name": "stdout",
     "output_type": "stream",
     "text": [
      "0\n"
     ]
    }
   ],
   "source": [
    "tukey([True, False, False], True)"
   ]
  },
  {
   "cell_type": "markdown",
   "metadata": {},
   "source": [
    "## How many orthogroups have different numbers of genes in high and medium species, but the same number of genes in high and low and low and medium species"
   ]
  },
  {
   "cell_type": "code",
   "execution_count": 11,
   "metadata": {},
   "outputs": [
    {
     "name": "stdout",
     "output_type": "stream",
     "text": [
      "0\n"
     ]
    }
   ],
   "source": [
    "tukey([False, True, False], True)"
   ]
  },
  {
   "cell_type": "markdown",
   "metadata": {},
   "source": [
    "## How many orthogroups have different numbers of genes in low and medium species, but the same number of genes in high and low and high and medium species"
   ]
  },
  {
   "cell_type": "code",
   "execution_count": 12,
   "metadata": {},
   "outputs": [
    {
     "name": "stdout",
     "output_type": "stream",
     "text": [
      "0\n"
     ]
    }
   ],
   "source": [
    "tukey([False, False, True], True)"
   ]
  },
  {
   "cell_type": "markdown",
   "metadata": {},
   "source": [
    "## How many orthogroups all have the same number of genes in them\n",
    "### This number should be 0 since they all passed the ANOVA"
   ]
  },
  {
   "cell_type": "code",
   "execution_count": 13,
   "metadata": {},
   "outputs": [
    {
     "name": "stdout",
     "output_type": "stream",
     "text": [
      "0\n"
     ]
    }
   ],
   "source": [
    "tukey([False, False, False], False)"
   ]
  },
  {
   "cell_type": "code",
   "execution_count": 14,
   "metadata": {},
   "outputs": [],
   "source": [
    "#orthogroup will be the only parameter\n",
    "def dotplot(orthogroup):\n",
    "    #make a list that is the pathogenicity levels of the species in the order that they will be in the dataframe\n",
    "    pathogenicity = ['high', 'high', 'high', 'high', 'high', 'medium', 'medium', 'medium', 'medium', 'medium',\\\n",
    "                 'low', 'low', 'low', 'low', 'low', 'low', 'low', 'low']\n",
    "    \n",
    "    #make a list that is the strains\n",
    "    strain = ['A_neoellipticus_NRRL5109', 'A_fumigatus_12-750544', 'A_fumigatus_A1163', 'A_fumigatus_Af293', \\\n",
    "              'A_fumigatus_F16311', 'A_lentulus_IFM54703', 'A_novofumigatus_IBT16806', 'A_udagawae_IFM46973', \\\n",
    "              'A_viridinutans_FRR_0576', 'A_thermomutatus_HMRAF39', 'A_cejpii_FS110', 'A_clavatus_NRRL1', \\\n",
    "              'A_cristatus_GZAAS20.1005', 'A_fischeri_NRRL181', 'A_glaucus_CBS516.65', 'A_turcosus_HMRAF1038', \\\n",
    "              'A_turcosus_HMRAF23', 'A_wentii_DTO134E9']\n",
    "              \n",
    "    \n",
    "    #make a list of the gene counts in the same order as the pathogenicity list\n",
    "    values = [dInt[orthogroup][1], dInt[orthogroup][5], dInt[orthogroup][6], dInt[orthogroup][7], dInt[orthogroup][8], \\\n",
    "          dInt[orthogroup][10], dInt[orthogroup][11], dInt[orthogroup][12], dInt[orthogroup][15], dInt[orthogroup][16], \\\n",
    "          dInt[orthogroup][0], dInt[orthogroup][2], dInt[orthogroup][3], dInt[orthogroup][4], dInt[orthogroup][9], \\\n",
    "              dInt[orthogroup][13], dInt[orthogroup][14], dInt[orthogroup][17]]\n",
    "\n",
    "    #make a pandas dataframe with strain, Gene_Count, and a Pathogenicity_Level column\n",
    "    df = pd.DataFrame(list(zip(strain, values, pathogenicity)), columns = ['Strain', 'Gene_Count','Pathogenicity_Level'])\n",
    "    \n",
    "    print(df)\n",
    "    \n",
    "    sns.swarmplot(x=\"Pathogenicity_Level\", y=\"Gene_Count\", data=df, size=10).set_title(orthogroup);"
   ]
  },
  {
   "cell_type": "code",
   "execution_count": 17,
   "metadata": {},
   "outputs": [
    {
     "name": "stdout",
     "output_type": "stream",
     "text": [
      "                      Strain  Gene_Count Pathogenicity_Level\n",
      "0   A_neoellipticus_NRRL5109           0                high\n",
      "1      A_fumigatus_12-750544           0                high\n",
      "2          A_fumigatus_A1163           0                high\n",
      "3          A_fumigatus_Af293           0                high\n",
      "4         A_fumigatus_F16311           0                high\n",
      "5        A_lentulus_IFM54703           1              medium\n",
      "6   A_novofumigatus_IBT16806           1              medium\n",
      "7        A_udagawae_IFM46973           1              medium\n",
      "8    A_viridinutans_FRR_0576           2              medium\n",
      "9    A_thermomutatus_HMRAF39           2              medium\n",
      "10            A_cejpii_FS110           1                 low\n",
      "11          A_clavatus_NRRL1           1                 low\n",
      "12  A_cristatus_GZAAS20.1005           2                 low\n",
      "13        A_fischeri_NRRL181           2                 low\n",
      "14       A_glaucus_CBS516.65           2                 low\n",
      "15      A_turcosus_HMRAF1038           2                 low\n",
      "16        A_turcosus_HMRAF23           2                 low\n",
      "17         A_wentii_DTO134E9           2                 low\n"
     ]
    },
    {
     "data": {
      "image/png": "[encoded data removed]",
      "text/plain": [
       "<Figure size 432x288 with 1 Axes>"
      ]
     },
     "metadata": {
      "needs_background": "light"
     },
     "output_type": "display_data"
    }
   ],
   "source": [
    "dotplot('669')"
   ]
  },
  {
   "cell_type": "code",
   "execution_count": 21,
   "metadata": {},
   "outputs": [],
   "source": [
    "import statsmodels.api as sm "
   ]
  },
  {
   "cell_type": "code",
   "execution_count": 22,
   "metadata": {},
   "outputs": [
    {
     "ename": "AttributeError",
     "evalue": "module 'statsmodels.api' has no attribute 'version'",
     "output_type": "error",
     "traceback": [
      "\u001b[0;31m---------------------------------------------------------------------------\u001b[0m",
      "\u001b[0;31mAttributeError\u001b[0m                            Traceback (most recent call last)",
      "\u001b[0;32m<ipython-input-22-91c2227ccdcb>\u001b[0m in \u001b[0;36m<module>\u001b[0;34m\u001b[0m\n\u001b[0;32m----> 1\u001b[0;31m \u001b[0msm\u001b[0m\u001b[0;34m.\u001b[0m\u001b[0mversion\u001b[0m\u001b[0;34m.\u001b[0m\u001b[0mversion\u001b[0m\u001b[0;34m\u001b[0m\u001b[0;34m\u001b[0m\u001b[0m\n\u001b[0m",
      "\u001b[0;31mAttributeError\u001b[0m: module 'statsmodels.api' has no attribute 'version'"
     ]
    }
   ],
   "source": [
    "sm.version.version "
   ]
  },
  {
   "cell_type": "code",
   "execution_count": 23,
   "metadata": {},
   "outputs": [
    {
     "data": {
      "text/plain": [
       "'0.10.0'"
      ]
     },
     "execution_count": 23,
     "metadata": {},
     "output_type": "execute_result"
    }
   ],
   "source": [
    "statsmodels.__version__ "
   ]
  },
  {
   "cell_type": "code",
   "execution_count": null,
   "metadata": {},
   "outputs": [],
   "source": []
  }
 ],
 "metadata": {
  "kernelspec": {
   "display_name": "Python 3",
   "language": "python",
   "name": "python3"
  },
  "language_info": {
   "codemirror_mode": {
    "name": "ipython",
    "version": 3
   },
   "file_extension": ".py",
   "mimetype": "text/x-python",
   "name": "python",
   "nbconvert_exporter": "python",
   "pygments_lexer": "ipython3",
   "version": "3.7.3"
  }
 },
 "nbformat": 4,
 "nbformat_minor": 2
}
