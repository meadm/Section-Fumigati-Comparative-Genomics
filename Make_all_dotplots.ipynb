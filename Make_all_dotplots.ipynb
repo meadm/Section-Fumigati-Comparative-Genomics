{
 "cells": [
  {
   "cell_type": "markdown",
   "metadata": {},
   "source": [
    " # This notebook will take a list of OGs and make dotplots for all of them that show how many family members are in each strain"
   ]
  },
  {
   "cell_type": "code",
   "execution_count": 1,
   "metadata": {},
   "outputs": [],
   "source": [
    "import csv\n",
    "import pandas as pd\n",
    "import seaborn as sns\n",
    "import matplotlib.pyplot as plt"
   ]
  },
  {
   "cell_type": "markdown",
   "metadata": {},
   "source": [
    "## Load the OG data in as a dictionary with OGs as the keys and the number of family members in each strain (as an integer) as the values"
   ]
  },
  {
   "cell_type": "code",
   "execution_count": 2,
   "metadata": {},
   "outputs": [],
   "source": [
    "# open the file and make an initial dictionary that has orthogroups as keys and all the gene numbers as values\n",
    "#NOTE: this CSV file can NOT have a header\n",
    "with open('../../only_changes.csv') as mainfilehandle:\n",
    "    reader = csv.reader(mainfilehandle, delimiter=',')\n",
    "    l = list(reader)\n",
    "    d = {row[0]:row[1:] for row in l}\n",
    "\n",
    "# make an empty dictionary that will eventually contain orthogroups and gene numbers as integers (and not strings)\n",
    "dInt = {}\n",
    "\n",
    "#for every key in the initial dictionary...\n",
    "for k in d:\n",
    "    \n",
    "    #make a new key in the \"integer\" dictionary that is the key you're currently looping on\n",
    "    dInt[k] = []\n",
    "    \n",
    "    #for every value with that key\n",
    "    for v in d[k]:\n",
    "        \n",
    "        #convert the number to an integer\n",
    "        new = int(v)\n",
    "        \n",
    "        #and append it into the \"integer\" dictionary\n",
    "        dInt[k].append(new)"
   ]
  },
  {
   "cell_type": "markdown",
   "metadata": {},
   "source": [
    " ## Make a function that will make a dotplot of any OG you provide"
   ]
  },
  {
   "cell_type": "code",
   "execution_count": 3,
   "metadata": {},
   "outputs": [],
   "source": [
    "#orthogroup will be the only parameter\n",
    "def dotplot(orthogroup):\n",
    "    #make a list that is the pathogenicity levels of the species in the order that they will be in the dataframe\n",
    "    pathogenicity = ['high', 'high', 'high', 'high', 'high', 'medium', 'medium', 'medium', 'medium', 'medium',\\\n",
    "                 'low', 'low', 'low', 'low', 'low', 'low', 'low', 'low']\n",
    "    \n",
    "    #make a list that is the strains\n",
    "    strain = ['A_neoellipticus_NRRL5109', 'A_fumigatus_12-750544', 'A_fumigatus_A1163', 'A_fumigatus_Af293', \\\n",
    "              'A_fumigatus_F16311', 'A_lentulus_IFM54703', 'A_novofumigatus_IBT16806', 'A_udagawae_IFM46973', \\\n",
    "              'A_viridinutans_FRR_0576', 'A_thermomutatus_HMRAF39', 'A_cejpii_FS110', 'A_clavatus_NRRL1', \\\n",
    "              'A_cristatus_GZAAS20.1005', 'A_fischeri_NRRL181', 'A_glaucus_CBS516.65', 'A_turcosus_HMRAF1038', \\\n",
    "              'A_turcosus_HMRAF23', 'A_wentii_DTO134E9']\n",
    "              \n",
    "    \n",
    "    #make a list of the gene counts in the same order as the pathogenicity list\n",
    "    values = [dInt[orthogroup][1], dInt[orthogroup][5], dInt[orthogroup][6], dInt[orthogroup][7], dInt[orthogroup][8], \\\n",
    "          dInt[orthogroup][10], dInt[orthogroup][11], dInt[orthogroup][12], dInt[orthogroup][15], dInt[orthogroup][16], \\\n",
    "          dInt[orthogroup][0], dInt[orthogroup][2], dInt[orthogroup][3], dInt[orthogroup][4], dInt[orthogroup][9], \\\n",
    "              dInt[orthogroup][13], dInt[orthogroup][14], dInt[orthogroup][17]]\n",
    "\n",
    "    #make a pandas dataframe with strain, Gene_Count, and a Pathogenicity_Level column\n",
    "    df = pd.DataFrame(list(zip(strain, values, pathogenicity)), columns = ['Strain', 'Gene_Count','Pathogenicity_Level'])\n",
    "    \n",
    "    sns.swarmplot(x=\"Pathogenicity_Level\", y=\"Gene_Count\", data=df, size=10).set_title(orthogroup);"
   ]
  },
  {
   "cell_type": "markdown",
   "metadata": {},
   "source": [
    " ## Make a function that will save a dotplot of any OG you provide"
   ]
  },
  {
   "cell_type": "code",
   "execution_count": 4,
   "metadata": {},
   "outputs": [],
   "source": [
    "#orthogroup will be the only parameter\n",
    "def dotplot_save(orthogroup):\n",
    "    #make a list that is the pathogenicity levels of the species in the order that they will be in the dataframe\n",
    "    pathogenicity = ['high', 'high', 'high', 'high', 'high', 'medium', 'medium', 'medium', 'medium', 'medium',\\\n",
    "                 'low', 'low', 'low', 'low', 'low', 'low', 'low', 'low']\n",
    "    \n",
    "    #make a list that is the strains\n",
    "    strain = ['A_neoellipticus_NRRL5109', 'A_fumigatus_12-750544', 'A_fumigatus_A1163', 'A_fumigatus_Af293', \\\n",
    "              'A_fumigatus_F16311', 'A_lentulus_IFM54703', 'A_novofumigatus_IBT16806', 'A_udagawae_IFM46973', \\\n",
    "              'A_viridinutans_FRR_0576', 'A_thermomutatus_HMRAF39', 'A_cejpii_FS110', 'A_clavatus_NRRL1', \\\n",
    "              'A_cristatus_GZAAS20.1005', 'A_fischeri_NRRL181', 'A_glaucus_CBS516.65', 'A_turcosus_HMRAF1038', \\\n",
    "              'A_turcosus_HMRAF23', 'A_wentii_DTO134E9']\n",
    "              \n",
    "    \n",
    "    #make a list of the gene counts in the same order as the pathogenicity list\n",
    "    values = [dInt[orthogroup][1], dInt[orthogroup][5], dInt[orthogroup][6], dInt[orthogroup][7], dInt[orthogroup][8], \\\n",
    "          dInt[orthogroup][10], dInt[orthogroup][11], dInt[orthogroup][12], dInt[orthogroup][15], dInt[orthogroup][16], \\\n",
    "          dInt[orthogroup][0], dInt[orthogroup][2], dInt[orthogroup][3], dInt[orthogroup][4], dInt[orthogroup][9], \\\n",
    "              dInt[orthogroup][13], dInt[orthogroup][14], dInt[orthogroup][17]]\n",
    "\n",
    "    #make a pandas dataframe with strain, Gene_Count, and a Pathogenicity_Level column\n",
    "    df = pd.DataFrame(list(zip(strain, values, pathogenicity)), columns = ['Strain', 'Gene_Count','Pathogenicity_Level'])\n",
    "    \n",
    "    #start a new figure\n",
    "        #note this is key when using the function in a loop; otherwise the loop will start putting all the new figures \\\n",
    "        #in the sameaxis/file\n",
    "    plt.figure(orthogroup)\n",
    "    \n",
    "    #make the dotplot\n",
    "    sns.swarmplot(x=\"Pathogenicity_Level\", y=\"Gene_Count\", data=df, size=10).set_title(orthogroup)\n",
    "    \n",
    "    #save the dotplot where I want it with the OG as its file name\n",
    "    plt.savefig('adj05_dotplots/'+ orthogroup +'.pdf')\n",
    "    \n",
    "    #close the plot\n",
    "        #this helps with memory management, I think...\n",
    "    plt.close()"
   ]
  },
  {
   "cell_type": "markdown",
   "metadata": {},
   "source": [
    " ## Open the file that is a single column of all the OGs of interest and save them as a list"
   ]
  },
  {
   "cell_type": "code",
   "execution_count": 5,
   "metadata": {},
   "outputs": [],
   "source": [
    "#with open(\"10K_adj05_OGs.txt\", \"r\") as f:\n",
    " #   OGs = []\n",
    "  #  for item in f:\n",
    "        #needed to remove the carriage returns\n",
    "   #     OGs.append(item[:-1])"
   ]
  },
  {
   "cell_type": "markdown",
   "metadata": {},
   "source": [
    " ## Loop through all the OGs of interest and save dotplots of them"
   ]
  },
  {
   "cell_type": "code",
   "execution_count": 6,
   "metadata": {},
   "outputs": [],
   "source": [
    "#for family in OGs:\n",
    " #   dotplot_save(family)"
   ]
  },
  {
   "cell_type": "code",
   "execution_count": 4,
   "metadata": {},
   "outputs": [
    {
     "data": {
      "image/png": "[encoded data removed]",
      "text/plain": [
       "<Figure size 432x288 with 1 Axes>"
      ]
     },
     "metadata": {
      "needs_background": "light"
     },
     "output_type": "display_data"
    }
   ],
   "source": [
    "dotplot('7310')"
   ]
  },
  {
   "cell_type": "code",
   "execution_count": null,
   "metadata": {},
   "outputs": [],
   "source": []
  }
 ],
 "metadata": {
  "kernelspec": {
   "display_name": "Python 3",
   "language": "python",
   "name": "python3"
  },
  "language_info": {
   "codemirror_mode": {
    "name": "ipython",
    "version": 3
   },
   "file_extension": ".py",
   "mimetype": "text/x-python",
   "name": "python",
   "nbconvert_exporter": "python",
   "pygments_lexer": "ipython3",
   "version": "3.7.3"
  }
 },
 "nbformat": 4,
 "nbformat_minor": 2
}
